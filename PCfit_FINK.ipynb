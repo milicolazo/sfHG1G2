{
 "cells": [
  {
   "cell_type": "markdown",
   "id": "38349f92-36c8-463b-90b8-7cb93c25e577",
   "metadata": {},
   "source": [
    "# 📈 Phase Curve Fitting with Apparition Splitting for FINK Data  \n",
    "**Milagros Colazo & Dagmara Oszkiewicz**  \n",
    "📅 *March 2025*  \n",
    "\n",
    "### 🔍 Overview  \n",
    "This notebook implements phase curve fitting using apparition splitting for FINK data.\n",
    "\n",
    "### Reference\n",
    "Colazo et al. (2025) [Accepted for publication, ICARUS]"
   ]
  },
  {
   "cell_type": "markdown",
   "id": "bad09612-8ae3-4774-8461-a36bfcc4b89a",
   "metadata": {},
   "source": [
    "### Libraries"
   ]
  },
  {
   "cell_type": "code",
   "execution_count": 1,
   "id": "f7862308-afde-4f44-a31d-611dd3f1d697",
   "metadata": {},
   "outputs": [],
   "source": [
    "import csv\n",
    "import glob\n",
    "import io\n",
    "import matplotlib.pyplot as plt\n",
    "import numpy as np\n",
    "import os\n",
    "import pandas as pd\n",
    "import re\n",
    "import requests\n",
    "import scipy\n",
    "import warnings\n",
    "\n",
    "from astropy.time import Time\n",
    "from astroquery.jplhorizons import Horizons\n",
    "from matplotlib.ticker import FormatStrFormatter\n",
    "from matplotlib.colors import ListedColormap\n",
    "from numpy.linalg import LinAlgError\n",
    "from scipy.interpolate import CubicSpline\n",
    "from scipy.optimize import least_squares\n",
    "from scipy.optimize import curve_fit\n",
    "\n",
    "warnings.filterwarnings('ignore')"
   ]
  },
  {
   "cell_type": "markdown",
   "id": "c39f2d8d-1066-4ff1-b31b-b7a4202422ef",
   "metadata": {},
   "source": [
    "### Extracting the data "
   ]
  },
  {
   "cell_type": "code",
   "execution_count": 2,
   "id": "727e54b5-51af-43df-8913-17b75d4b5abc",
   "metadata": {},
   "outputs": [],
   "source": [
    "r = requests.post(\n",
    "    'https://api.fink-portal.org/api/v1/sso',\n",
    "    json={\n",
    "        'n_or_d': '8467', # Asteroid number\n",
    "        'withEphem': True, # We need the Phase angle\n",
    "        'withResiduals': True,\n",
    "        'output-format': 'json'\n",
    "    }\n",
    ")\n",
    "\n",
    "# Format output in a DataFrame\n",
    "pdf = pd.read_json(io.BytesIO(r.content))"
   ]
  },
  {
   "cell_type": "markdown",
   "id": "4ce10486-b6b2-4d75-ba66-48d0673101ab",
   "metadata": {},
   "source": [
    "We need to separate the data between filters (g or r). "
   ]
  },
  {
   "cell_type": "code",
   "execution_count": 3,
   "id": "2b2fa872-dc9d-442d-b968-9b11cbe1dcd7",
   "metadata": {},
   "outputs": [],
   "source": [
    "pdf = pdf[pdf[\"i:fid\"] == 1] #g only"
   ]
  },
  {
   "cell_type": "markdown",
   "id": "50c6865a-67a3-4a80-be28-986ec6ef022e",
   "metadata": {},
   "source": [
    "Our algorithm for apparition identification requires the **elongFlag** from JPL Horizons.  \n",
    "In this case, I am also downloading the elongation angle for plotting and verifying that everything is working correctly."
   ]
  },
  {
   "cell_type": "code",
   "execution_count": 4,
   "id": "382954b1-940b-4296-a8f0-c5a90794bbeb",
   "metadata": {},
   "outputs": [],
   "source": [
    "ids = 8467  # Small body ID\n",
    "location = 'I41'  # Observatory code\n",
    "\n",
    "# Convert Julian dates to TDB\n",
    "pdf['Date'] = pdf['Date'].astype(float)  # Ensure numerical format\n",
    "jd_tdb = Time(pdf['Date'].tolist(), format='jd', scale='utc').tdb.value  # Convert UTC to TDB (Horizons ephemeris needs this)\n",
    "\n",
    "# Get min and max TDB Julian dates\n",
    "jd_min, jd_max = min(jd_tdb), max(jd_tdb)\n",
    "\n",
    "# Convert to calendar date format (YYYY-MM-DD)\n",
    "date_min = Time(jd_min, format='jd', scale='tdb').iso[:10]\n",
    "date_max = Time(jd_max, format='jd', scale='tdb').iso[:10]\n",
    "\n",
    "# Query Horizons using the converted TDB time range\n",
    "obj = Horizons(id=ids, location=location, epochs={'start': date_min, 'stop': date_max, 'step': '1d'}, id_type='smallbody')\n",
    "eph = obj.ephemerides()\n",
    "\n",
    "# Convert ephemeris data to Pandas DataFrame\n",
    "eph_df = eph.to_pandas()\n",
    "\n",
    "# Convert ephemeris dates from UTC to TDB before merging\n",
    "eph_df['JD_TDB'] = Time(eph_df['datetime_jd'].tolist(), format='jd', scale='utc').tdb.value  \n",
    "\n",
    "# Merge on the closest Julian date\n",
    "pdf = pd.merge_asof(pdf.sort_values('Date'), eph_df[['JD_TDB', 'elongFlag', 'elong']].sort_values('JD_TDB'),\n",
    "                    left_on='Date', right_on='JD_TDB', direction='nearest')\n",
    "\n",
    "pdf.drop(columns=['JD_TDB'], inplace=True)  # Remove helper column"
   ]
  },
  {
   "cell_type": "markdown",
   "id": "ba7cd3c9-7133-42b2-b96c-2a7035d79534",
   "metadata": {},
   "source": [
    "_____________"
   ]
  },
  {
   "cell_type": "markdown",
   "id": "f7deaa39-1f6e-4f1d-852e-0fe5c0f8d557",
   "metadata": {},
   "source": [
    "### Apparition identification"
   ]
  },
  {
   "cell_type": "code",
   "execution_count": 5,
   "id": "7595150d-5a51-4c16-b0d7-bc8456e34d09",
   "metadata": {},
   "outputs": [],
   "source": [
    "def split_dataframe_on_value_change(df, column_name,time_column):\n",
    "    df_list = []\n",
    "    temp_df = None\n",
    "    prev_value = None\n",
    "    prev_time = None\n",
    "\n",
    "    for index, row in df.iterrows():\n",
    "        current_value = row[column_name]\n",
    "        current_time = row[time_column]\n",
    "\n",
    "        if current_value.startswith('/L') and (prev_value is None or prev_value.startswith('/T')):\n",
    "            if temp_df is not None and not temp_df.empty:\n",
    "                df_list.append(temp_df)\n",
    "            temp_df = pd.DataFrame(columns=df.columns)\n",
    "        elif current_value.startswith('/T') and (prev_value is None or prev_value.startswith('/L')):\n",
    "            if temp_df is None:\n",
    "                temp_df = pd.DataFrame(columns=df.columns)\n",
    "        elif current_value.startswith('/T') and prev_value.startswith('/T'):\n",
    "            current_time = row[time_column]  # Extract the Julian date from the current row.\n",
    "            if prev_time is not None and (current_time - prev_time) > 182.5:\n",
    "                # If the difference is greater than 6 months, a new apparition begins.\n",
    "                df_list.append(temp_df)\n",
    "                temp_df = pd.DataFrame(columns=df.columns)  \n",
    "            if temp_df is None:\n",
    "                temp_df = pd.DataFrame(columns=df.columns)\n",
    "\n",
    "        if temp_df is not None:\n",
    "            temp_df = pd.concat([temp_df, row.to_frame().T], ignore_index=True)\n",
    "\n",
    "        # Update previous values\n",
    "        prev_value = current_value\n",
    "        prev_time = current_time \n",
    "\n",
    "    if temp_df is not None and not temp_df.empty:\n",
    "        df_list.append(temp_df)\n",
    "\n",
    "    return df_list"
   ]
  },
  {
   "cell_type": "markdown",
   "id": "39598687-4e1a-4789-8706-7cafd5e881db",
   "metadata": {},
   "source": [
    "Here we apply the function"
   ]
  },
  {
   "cell_type": "code",
   "execution_count": 6,
   "id": "28808b37-8939-4cf0-9184-8079512f2162",
   "metadata": {},
   "outputs": [],
   "source": [
    "splitted = split_dataframe_on_value_change(pdf, 'elongFlag', 'Date')"
   ]
  },
  {
   "cell_type": "code",
   "execution_count": 7,
   "id": "bae8a83d-e65b-4fae-ae43-3325e36fabc4",
   "metadata": {},
   "outputs": [
    {
     "data": {
      "text/plain": [
       "3"
      ]
     },
     "execution_count": 7,
     "metadata": {},
     "output_type": "execute_result"
    }
   ],
   "source": [
    "# How many apparitions have we identified?\n",
    "len(splitted)"
   ]
  },
  {
   "cell_type": "markdown",
   "id": "3f8fa847-d8ac-4332-aa90-73753c404d9a",
   "metadata": {},
   "source": [
    "A plot to verify whether we are correctly identifying the apparitions"
   ]
  },
  {
   "cell_type": "code",
   "execution_count": 8,
   "id": "b5925a12-82ec-433e-b411-de80d5f52e9f",
   "metadata": {},
   "outputs": [
    {
     "data": {
      "text/plain": [
       "<matplotlib.legend.Legend at 0x7fe007ad2ad0>"
      ]
     },
     "execution_count": 8,
     "metadata": {},
     "output_type": "execute_result"
    },
    {
     "data": {
      "image/png": "[encoded data removed]",
      "text/plain": [
       "<Figure size 600x600 with 1 Axes>"
      ]
     },
     "metadata": {},
     "output_type": "display_data"
    }
   ],
   "source": [
    "plt.figure(figsize=(4, 4), dpi=150)\n",
    "\n",
    "plt.scatter(splitted[0].Date, splitted[0].elong, s=5, label='App 1')\n",
    "plt.scatter(splitted[1].Date, splitted[1].elong, s=5, label='App 2')\n",
    "plt.scatter(splitted[2].Date, splitted[2].elong, s=5, label='App 3')\n",
    "\n",
    "plt.xlabel('Julian date')\n",
    "plt.ylabel('Elongation [degrees]')\n",
    "\n",
    "plt.ylim(5,185)\n",
    "\n",
    "plt.legend(facecolor='none', edgecolor='black',loc='lower left', \n",
    "                    ncols=5, handletextpad=0.2, columnspacing=0.3, handlelength=0.8)"
   ]
  },
  {
   "cell_type": "markdown",
   "id": "4cf0569d-d35c-48d7-8116-f680fc11aebe",
   "metadata": {},
   "source": [
    "The phase curve"
   ]
  },
  {
   "cell_type": "code",
   "execution_count": 9,
   "id": "326ec422-3579-4662-8337-e87e22c75923",
   "metadata": {},
   "outputs": [
    {
     "data": {
      "text/plain": [
       "<matplotlib.legend.Legend at 0x7fe006023310>"
      ]
     },
     "execution_count": 9,
     "metadata": {},
     "output_type": "execute_result"
    },
    {
     "data": {
      "image/png": "[encoded data removed]",
      "text/plain": [
       "<Figure size 600x600 with 1 Axes>"
      ]
     },
     "metadata": {},
     "output_type": "display_data"
    }
   ],
   "source": [
    "plt.figure(figsize=(4, 4), dpi=150)\n",
    "\n",
    "plt.gca().invert_yaxis()\n",
    "plt.scatter(splitted[0].Phase, splitted[0]['i:magpsf_red'], s=5, label='App 1')\n",
    "plt.scatter(splitted[1].Phase, splitted[1]['i:magpsf_red'], s=5, label='App 2')\n",
    "plt.scatter(splitted[2].Phase, splitted[2]['i:magpsf_red'], s=5, label='App 3')\n",
    "\n",
    "plt.xlabel('Phase angle [degrees]')\n",
    "plt.ylabel('Reduced g magnitude')\n",
    "\n",
    "#plt.ylim(5,185)\n",
    "\n",
    "plt.legend(facecolor='none', edgecolor='black',loc='lower left', \n",
    "                    ncols=1, handletextpad=0.2, columnspacing=0.3, handlelength=0.8)"
   ]
  },
  {
   "cell_type": "markdown",
   "id": "ba5c46ec-f25e-4a9d-bcb5-3e0d69cb4b02",
   "metadata": {},
   "source": [
    "________________"
   ]
  },
  {
   "cell_type": "markdown",
   "id": "93b75002-837c-42b3-838c-3be57a218857",
   "metadata": {},
   "source": [
    "### Phase curve fitting"
   ]
  },
  {
   "cell_type": "markdown",
   "id": "cece3c50-588e-4bf2-b1d7-f42c2c0ceb96",
   "metadata": {},
   "source": [
    "Definition of the functions"
   ]
  },
  {
   "cell_type": "code",
   "execution_count": 10,
   "id": "e661f909-2ae3-4439-ad9a-5e14cad103e4",
   "metadata": {},
   "outputs": [],
   "source": [
    "knot_alpha = [np.radians(np.array([7.5, 30.0, 60.0, 90.0, 120.0, 150.0])),\n",
    "                  np.radians(np.array([0.0, 0.3, 1.0, 2.0, 4.0, 8.0, 12.0, 20.0, 30.0]))]\n",
    "knot_phi = [np.array([7.5e-1, 3.3486016e-1, 1.3410560e-1, 5.1104756e-2, 2.1465687e-2, 3.6396989e-3]),\n",
    "                np.array([9.25e-1, 6.2884169e-1, 3.1755495e-1, 1.2716367e-1, 2.2373903e-2, 1.6505689e-4]),\n",
    "                np.array([1.0, 8.3381185e-1, 5.7735424e-1, 4.2144772e-1, 2.3174230e-1, 1.0348178e-1, 6.1733473e-2, 1.6107006e-2, 0.0])]\n",
    "\n",
    "cs = [CubicSpline(knot_alpha[0], knot_phi[0], bc_type=((1, -6.0/np.pi),(1, -9.1328612e-2))),\n",
    "          CubicSpline(knot_alpha[0], knot_phi[1], bc_type=((1, -9.0/(5.0*np.pi)),(1, -8.6573138e-8))),\n",
    "          CubicSpline(knot_alpha[1], knot_phi[2], bc_type=((1, -0.10630097),(1, 0.0)))]\n",
    "\n",
    "def phi1(alp):\n",
    "    if alp > 0 and alp <= 7.5:\n",
    "        return 1.0-6.0/np.pi*np.radians(alp)\n",
    "    elif alp > 7.5 and alp <= 150.0:\n",
    "        return cs[0](np.radians(alp))\n",
    "\n",
    "def phi2(alp):\n",
    "    if alp > 0 and alp <= 7.5:\n",
    "        return 1.0-9.0/(5.0*np.pi)*np.radians(alp)\n",
    "    elif alp > 7.5 and alp <= 150:\n",
    "        return cs[1](np.radians(alp))\n",
    "\n",
    "def phi3(alp):\n",
    "    if alp > 0 and alp <= 30.0:\n",
    "        return cs[2](np.radians(alp))\n",
    "    elif alp > 30 and alp <= 150:\n",
    "        return 0.0\n",
    "        \n",
    "def basis_function(num, alpha):\n",
    "    val = []\n",
    "    for a in alpha:\n",
    "        if num == 1:\n",
    "            val.append(phi1(a))\n",
    "        elif num == 2:\n",
    "            val.append(phi2(a))\n",
    "        else:\n",
    "            val.append(phi3(a))\n",
    "    return np.array(val)\n",
    "\n",
    "def HG1G2_non_lin(alpha, H, G1, G2):\n",
    "    return (10**(-0.4*H))*(G1*basis_function(1, alpha)+G2*basis_function(2, alpha)+(1-G1-G2)*basis_function(3, alpha))\n",
    "    \n",
    "def HG1G2_multiple(alps, G1, G2, *args):\n",
    "    fl = []\n",
    "    for alpha, H in zip(alps, args[0][:]):\n",
    "        fl.append(HG1G2_non_lin(alpha, H, G1, G2))    \n",
    "    return np.concatenate(fl)\n",
    "\n",
    "def HG1G2_error_fun(params, alphas, flux): \n",
    "    return HG1G2_multiple(alphas, params[0], params[1], params[2:]) - flux\n",
    "\n",
    "def fit_HG1G2(fluxes, alpha_table, max_mags):\n",
    "    popt = least_squares(HG1G2_error_fun, x0=[0.1, 0.1, *max_mags], loss='huber', method='trf', args=[alpha_table, fluxes],\n",
    "                         xtol=1e-20, gtol=1e-17)   \n",
    "    # Result\n",
    "    params = popt.x \n",
    "    G1 = params[0]\n",
    "    G2 = params[1]\n",
    "    H = params[2:]\n",
    "\n",
    "    # Uncertainities\n",
    "    J = popt.jac\n",
    "    cov = np.linalg.inv(J.T.dot(J))\n",
    "    std = np.sqrt(np.diagonal(np.linalg.inv(J.T @ J) * (popt.fun.T @ popt.fun / (popt.fun.size - popt.x.size))))\n",
    "    \n",
    "    print('H apparitions: ', H, 'G1: ', G1, 'G2: ', G2, 'uncertainities: ', std)\n",
    "    return H, G1, G2, std"
   ]
  },
  {
   "cell_type": "code",
   "execution_count": 11,
   "id": "fd1dcd21-ec9a-4067-8261-e62fde58a18b",
   "metadata": {},
   "outputs": [
    {
     "name": "stdout",
     "output_type": "stream",
     "text": [
      "H apparitions:  [13.50425483 13.63401574 13.59724012] G1:  0.15586030324387667 G2:  0.36621195298169595 uncertainities:  [0.06142343 0.02800531 0.04651104 0.04260641 0.0399605 ]\n",
      "DONE 8467\n"
     ]
    }
   ],
   "source": [
    "# Output CSV file\n",
    "output_csv = \"/home/milagros/Desktop/OPUS/pcfit_ztf_test.csv\" # We save the results here\n",
    "\n",
    "# Open the CSV file for appending and write the header if it doesn't exist\n",
    "file_exists = os.path.isfile(output_csv)\n",
    "\n",
    "with open(output_csv, mode='w', newline='') as file:\n",
    "    writer = csv.writer(file)\n",
    "    \n",
    "    tables_of_tables = [] # List to hold all DataFrames\n",
    "    max_mag = []  # Maximum magnitude per apparition\n",
    "    alpha_values = []  # List to hold alpha values for current df\n",
    "    tables_in_folder = []\n",
    "        \n",
    "    for df in splitted:\n",
    "        alpha_lists = []  # List to hold lists of alpha values\n",
    "        df_original = df\n",
    "   \n",
    "        m = df_original['i:magpsf_red'].to_numpy()\n",
    "        flux = np.power(10.0, -0.4 * m)\n",
    "        df_original.insert(4, \"flux_red\", flux, True)\n",
    "        \n",
    "        maximum = df_original['i:magpsf_red'].max()\n",
    "        \n",
    "        max_mag.append(maximum)\n",
    "        alpha_values.append(df_original['Phase'].to_numpy())\n",
    "        tables_in_folder.append(df_original)\n",
    "\n",
    "    # Concatenate all DataFrames into one\n",
    "    tables_of_tables.append(tables_in_folder)\n",
    "    \n",
    "    # Append lists of alpha and flux values for current folder to the main lists\n",
    "    alpha_lists.append(alpha_values)\n",
    "    \n",
    "    flux_lists = []\n",
    "    for table in tables_of_tables:\n",
    "        table_flux = []\n",
    "        for df in table:\n",
    "            # Extract 'flux' columns and convert to lists\n",
    "            flux = df['flux_red'].values.tolist()\n",
    "            table_flux.extend(flux)\n",
    "        flux_lists.append(table_flux)\n",
    "\n",
    "    try:\n",
    "        idd = '8467' \n",
    "        \n",
    "        # Fit using PCFit\n",
    "        H, G1, G2, std = fit_HG1G2(flux_lists[0], alpha_lists[0], max_mag)\n",
    "        G1_error = std[0]\n",
    "        G2_error = std[1]\n",
    "        H_error = std[2:]\n",
    "        \n",
    "        # Save the results to the CSV file\n",
    "        writer.writerow([idd, H, H_error, G1, G1_error, G2, G2_error])\n",
    "        print(f\"DONE {idd}\")\n",
    "        \n",
    "    except LinAlgError as e:\n",
    "        print(f\"LinAlgError processing folder {folder_path}: {e}\")"
   ]
  },
  {
   "cell_type": "code",
   "execution_count": null,
   "id": "8e0c0317-fc29-4378-a067-fa59ee581e4e",
   "metadata": {},
   "outputs": [],
   "source": []
  },
  {
   "cell_type": "code",
   "execution_count": null,
   "id": "b8e73e39-6810-437f-9f12-ee9590a5528e",
   "metadata": {},
   "outputs": [],
   "source": []
  }
 ],
 "metadata": {
  "kernelspec": {
   "display_name": "Python 3 (ipykernel)",
   "language": "python",
   "name": "python3"
  },
  "language_info": {
   "codemirror_mode": {
    "name": "ipython",
    "version": 3
   },
   "file_extension": ".py",
   "mimetype": "text/x-python",
   "name": "python",
   "nbconvert_exporter": "python",
   "pygments_lexer": "ipython3",
   "version": "3.11.2"
  }
 },
 "nbformat": 4,
 "nbformat_minor": 5
}
